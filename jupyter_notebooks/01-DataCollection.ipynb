{
 "cells": [
  {
   "cell_type": "markdown",
   "metadata": {
    "id": "Ndq4Kg-yhxKm"
   },
   "source": [
    "# Data Collection Notebook\n",
    "## Objectives:"
   ]
  },
  {
   "cell_type": "markdown",
   "metadata": {
    "id": "LiujW2ORafaX"
   },
   "source": [
    "* - Load 3 input data tables from the same folder\n",
    "* - Perform full outer joins between the tables\n",
    "* - Conduct a quick data check\n",
    "* - Save the resulting dataset in the folder"
   ]
  },
  {
   "cell_type": "markdown",
   "metadata": {
    "id": "QRr9AthgafaZ"
   },
   "source": [
    "---"
   ]
  },
  {
   "cell_type": "markdown",
   "metadata": {
    "id": "3hmB6wo1afaZ"
   },
   "source": [
    "### Import Packages for Learning"
   ]
  },
  {
   "cell_type": "code",
   "execution_count": null,
   "metadata": {
    "id": "2EOs6cB_SjeE"
   },
   "outputs": [],
   "source": [
    "import numpy as np\n",
    "import pandas as pd\n",
    "import os"
   ]
  },
  {
   "cell_type": "markdown",
   "metadata": {
    "id": "gLGOQUPKdCzr"
   },
   "source": [
    "---"
   ]
  },
  {
   "cell_type": "markdown",
   "metadata": {
    "id": "cTiSN8hDcmuO"
   },
   "source": [
    "### Step 1: Load the 3 input data tables\n",
    "  \n"
   ]
  },
  {
   "cell_type": "code",
   "execution_count": null,
   "metadata": {},
   "outputs": [],
   "source": [
    "sales_data = pd.read_csv('sales data-set.csv')\n",
    "features_data = pd.read_csv('Features data set.csv')\n",
    "stores_data = pd.read_csv('stores data-set.csv')"
   ]
  },
  {
   "cell_type": "markdown",
   "metadata": {
    "id": "84jon11xdQPr"
   },
   "source": [
    "----"
   ]
  },
  {
   "cell_type": "markdown",
   "metadata": {
    "id": "0ngdeZdUqMC5"
   },
   "source": [
    "### Step 2: Perform full outer join of Sales and Features on 'Store' and 'Date'\n",
    "Drop 'IsHoliday' column from the 'features_data' table to avoid redundancy"
   ]
  },
  {
   "cell_type": "code",
   "execution_count": null,
   "metadata": {
    "id": "z9X2oe6CeYcB"
   },
   "outputs": [],
   "source": [
    "if 'IsHoliday' in features_data.columns:\n",
    "    features_data = features_data.drop(columns=['IsHoliday'])\n",
    "sales_features_merged = pd.merge(sales_data, features_data, on=['Store', 'Date'], how='outer')"
   ]
  },
  {
   "cell_type": "markdown",
   "metadata": {
    "id": "Ws43kAI-vi-8"
   },
   "source": [
    "### Step 3: Perform full outer join with Stores on 'Store'"
   ]
  },
  {
   "cell_type": "code",
   "execution_count": null,
   "metadata": {
    "id": "6srxYMypvfcH"
   },
   "outputs": [],
   "source": [
    "full_data = pd.merge(sales_features_merged, stores_data, on='Store', how='outer')"
   ]
  },
  {
   "cell_type": "markdown",
   "metadata": {
    "id": "e5CcGA0VtwSJ"
   },
   "source": [
    "### Step 4: Quick checks for data"
   ]
  },
  {
   "cell_type": "code",
   "execution_count": null,
   "metadata": {
    "id": "sI4PPQx9tHvG"
   },
   "outputs": [],
   "source": [
    "print(\"Quick Data Check:\")\n",
    "print(full_data.info())\n",
    "print(full_data.head())"
   ]
  },
  {
   "cell_type": "markdown",
   "metadata": {},
   "source": [
    "### Step 5: Save the merged file to the output folder"
   ]
  },
  {
   "cell_type": "code",
   "execution_count": null,
   "metadata": {},
   "outputs": [],
   "source": [
    "output_path = \"outputs/merged_data.csv\"\n",
    "os.makedirs(os.path.dirname(output_path), exist_ok=True)\n",
    "full_data.to_csv(output_path, index=False)\n",
    "\n",
    "print(f\"Merged data saved at: {output_path}\")"
   ]
  }
 ],
 "metadata": {
  "colab": {
   "collapsed_sections": [],
   "name": "Statistical Tests - Unit 02: Parametric Statistical Tests.ipynb",
   "provenance": [],
   "toc_visible": true
  },
  "kernelspec": {
   "display_name": "Python 3 (ipykernel)",
   "language": "python",
   "name": "python3"
  },
  "language_info": {
   "codemirror_mode": {
    "name": "ipython",
    "version": 3
   },
   "file_extension": ".py",
   "mimetype": "text/x-python",
   "name": "python",
   "nbconvert_exporter": "python",
   "pygments_lexer": "ipython3",
   "version": "3.9.7"
  }
 },
 "nbformat": 4,
 "nbformat_minor": 1
}
