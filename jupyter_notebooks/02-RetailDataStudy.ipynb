{
 "cells": [
  {
   "cell_type": "markdown",
   "id": "37dbb490",
   "metadata": {},
   "source": [
    "# 02 - Retail Data Study.ipynb\n",
    "## Objective: Study the Retail Dataset"
   ]
  },
  {
   "cell_type": "markdown",
   "id": "9973829f",
   "metadata": {},
   "source": [
    "### Import libraries"
   ]
  },
  {
   "cell_type": "code",
   "execution_count": null,
   "id": "77debafc",
   "metadata": {},
   "outputs": [],
   "source": [
    "import pandas as pd\n",
    "import seaborn as sns\n",
    "import matplotlib.pyplot as plt\n",
    "import ydata_profiling as pp\n",
    "from ydata_profiling import ProfileReport\n",
    "from feature_engine.discretisation import ArbitraryDiscretiser\n",
    "import plotly.express as px\n",
    "import numpy as np"
   ]
  },
  {
   "cell_type": "markdown",
   "id": "18d234c6",
   "metadata": {},
   "source": [
    "### Load Data"
   ]
  },
  {
   "cell_type": "code",
   "execution_count": null,
   "id": "7835ab90",
   "metadata": {},
   "outputs": [],
   "source": [
    "data_path = \"outputs/merged_data.csv\"\n",
    "df = pd.read_csv(data_path)"
   ]
  },
  {
   "cell_type": "markdown",
   "id": "b8d9ca3e",
   "metadata": {},
   "source": [
    "### Convert \"Store\" and \"Dept\" into categorical data types, and Date into datetime"
   ]
  },
  {
   "cell_type": "code",
   "execution_count": null,
   "id": "3f6a60ee",
   "metadata": {},
   "outputs": [],
   "source": [
    "df['Store'] = df['Store'].astype('category')\n",
    "df['Dept'] = df['Dept'].astype('category')\n",
    "df['Date'] = pd.to_datetime(df['Date'])"
   ]
  },
  {
   "cell_type": "markdown",
   "id": "a691253b",
   "metadata": {},
   "source": [
    "### Generate Pandas Profile Report"
   ]
  },
  {
   "cell_type": "code",
   "execution_count": null,
   "id": "2391c4e9",
   "metadata": {},
   "outputs": [],
   "source": [
    "profile = ProfileReport(df, title=\"Retail Data Profile Report\", explorative=True)\n",
    "profile.to_notebook_iframe()  # Display in Jupyter Notebook"
   ]
  },
  {
   "cell_type": "markdown",
   "id": "07dc0f45",
   "metadata": {},
   "source": [
    "### Correlation Study\n",
    "Pearson correlation including NA values"
   ]
  },
  {
   "cell_type": "code",
   "execution_count": null,
   "id": "10abefdd",
   "metadata": {},
   "outputs": [],
   "source": [
    "pearson_corr = df.corr(method='pearson')\n",
    "print(\"Pearson Correlation (including NA values):\\n\", pearson_corr)"
   ]
  },
  {
   "cell_type": "markdown",
   "id": "fa25aa27",
   "metadata": {},
   "source": [
    "### Spearman correlation including NA values"
   ]
  },
  {
   "cell_type": "code",
   "execution_count": null,
   "id": "7fad9dea",
   "metadata": {},
   "outputs": [],
   "source": [
    "spearman_corr = df.corr(method='spearman')\n",
    "print(\"Spearman Correlation (including NA values):\\n\", spearman_corr)"
   ]
  },
  {
   "cell_type": "markdown",
   "id": "79d1f7a9",
   "metadata": {},
   "source": [
    "### Select top 5 correlated features with the target variable \"Weekly_Sales\""
   ]
  },
  {
   "cell_type": "code",
   "execution_count": null,
   "id": "867527ba",
   "metadata": {},
   "outputs": [],
   "source": [
    "correlations = pearson_corr['Weekly_Sales'].abs().sort_values(ascending=False)\n",
    "top_5_features = correlations[1:6].index.to_list()  # Exclude \"Weekly_Sales\" itself\n",
    "print(f\"Top 5 Correlated Features: {top_5_features}\")"
   ]
  },
  {
   "cell_type": "markdown",
   "id": "fbdeb4d9",
   "metadata": {},
   "source": [
    "### Exploratory Data Analysis (EDA) on selected top 5 correlated features"
   ]
  },
  {
   "cell_type": "code",
   "execution_count": null,
   "id": "06776908",
   "metadata": {},
   "outputs": [],
   "source": [
    "df_eda = df.filter(top_5_features + ['Weekly_Sales'])\n",
    "print(\"EDA Data Preview:\\n\", df_eda.head())"
   ]
  },
  {
   "cell_type": "markdown",
   "id": "ea8e2216",
   "metadata": {},
   "source": [
    "### Plot distributions of Weekly_Sales and top 5 correlated variables"
   ]
  },
  {
   "cell_type": "code",
   "execution_count": null,
   "id": "de10e38a",
   "metadata": {},
   "outputs": [],
   "source": [
    "sns.set_style('whitegrid')\n",
    "\n",
    "def plot_distribution(df, feature):\n",
    "    plt.figure(figsize=(10, 6))\n",
    "    if df[feature].dtype == 'object':\n",
    "        sns.boxplot(x=df[feature], y=df['Weekly_Sales'])\n",
    "    else:\n",
    "        sns.scatterplot(x=df[feature], y=df['Weekly_Sales'])\n",
    "    plt.title(f\"Distribution of {feature} vs Weekly_Sales\")\n",
    "    plt.show()\n",
    "\n",
    "for feature in top_5_features:\n",
    "    plot_distribution(df_eda, feature)"
   ]
  },
  {
   "cell_type": "markdown",
   "id": "3b1dbc3a",
   "metadata": {},
   "source": [
    "### Pie chart of \"Weekly_Sales\" by Store Type"
   ]
  },
  {
   "cell_type": "code",
   "execution_count": null,
   "id": "c8d81378",
   "metadata": {},
   "outputs": [],
   "source": [
    "sales_by_store_type = df.groupby('Type')['Weekly_Sales'].sum().reset_index()\n",
    "fig = px.pie(sales_by_store_type, values='Weekly_Sales', names='Type', title=\"Weekly Sales by Store Type\")\n",
    "fig.show()"
   ]
  },
  {
   "cell_type": "code",
   "execution_count": null,
   "id": "2701a941",
   "metadata": {},
   "outputs": [],
   "source": [
    "### Pie chart of \"Weekly_Sales\" by Store"
   ]
  },
  {
   "cell_type": "code",
   "execution_count": null,
   "id": "65ebc47e",
   "metadata": {},
   "outputs": [],
   "source": [
    "sales_by_store = df.groupby('Store')['Weekly_Sales'].sum().reset_index()\n",
    "fig = px.pie(sales_by_store, values='Weekly_Sales', names='Store', title=\"Weekly Sales by Store\")\n",
    "fig.show()"
   ]
  },
  {
   "cell_type": "markdown",
   "id": "d235475a",
   "metadata": {},
   "source": [
    "### Parallel Plot of top 5 features + Weekly_Sales"
   ]
  },
  {
   "cell_type": "code",
   "execution_count": null,
   "id": "6cd4dbd3",
   "metadata": {},
   "outputs": [],
   "source": [
    "fig = px.parallel_coordinates(df_eda, color=\"Weekly_Sales\",\n",
    "                              dimensions=top_5_features,\n",
    "                              color_continuous_scale=px.colors.diverging.Tealrose,\n",
    "                              title=\"Parallel Plot: Top 5 Correlated Features vs Weekly_Sales\")\n",
    "fig.show()"
   ]
  },
  {
   "cell_type": "code",
   "execution_count": null,
   "id": "70529576",
   "metadata": {},
   "outputs": [],
   "source": [
    "### Conclusion"
   ]
  },
  {
   "cell_type": "code",
   "execution_count": null,
   "id": "a08df23b",
   "metadata": {},
   "outputs": [],
   "source": [
    "print(\"Conclusions: \")\n",
    "print(f\"The top 5 features most correlated with Weekly Sales are {top_5_features}.\")\n",
    "print(\"We have visualized their relationships with the target variable and conducted distribution analysis.\")\n",
    "print(\"There are many missing values which should be handled.\")"
   ]
  }
 ],
 "metadata": {
  "kernelspec": {
   "display_name": "Python 3 (ipykernel)",
   "language": "python",
   "name": "python3"
  },
  "language_info": {
   "codemirror_mode": {
    "name": "ipython",
    "version": 3
   },
   "file_extension": ".py",
   "mimetype": "text/x-python",
   "name": "python",
   "nbconvert_exporter": "python",
   "pygments_lexer": "ipython3",
   "version": "3.9.7"
  }
 },
 "nbformat": 4,
 "nbformat_minor": 5
}
