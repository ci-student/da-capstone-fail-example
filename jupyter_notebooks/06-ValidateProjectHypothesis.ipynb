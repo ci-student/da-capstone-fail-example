{
 "cells": [
  {
   "cell_type": "markdown",
   "id": "272bcc64",
   "metadata": {},
   "source": [
    "# Validate Project Hypothesis\n",
    "## Objectives\n",
    "\n",
    "- Hypothesis 1:\n",
    "Markdown events before holidays have a significant positive effect on sales.\n",
    "   - H0: Markdown events before holidays do not have a significant positive effect on sales.\n",
    "   - H1: Markdown events before holidays have a significant positive effect on sales."
   ]
  },
  {
   "cell_type": "markdown",
   "id": "115f27c7",
   "metadata": {},
   "source": [
    "### Import libraries"
   ]
  },
  {
   "cell_type": "code",
   "execution_count": null,
   "id": "268fa6f4",
   "metadata": {},
   "outputs": [],
   "source": [
    "import pandas as pd\n",
    "import numpy as np\n",
    "from scipy import stats\n",
    "import matplotlib.pyplot as plt\n",
    "import seaborn as sns\n",
    "from sklearn.linear_model import LinearRegression\n",
    "import statsmodels.api as sm"
   ]
  },
  {
   "cell_type": "markdown",
   "id": "c79e8e91",
   "metadata": {},
   "source": [
    "### Load the dataset"
   ]
  },
  {
   "cell_type": "code",
   "execution_count": null,
   "id": "38fdc0fc",
   "metadata": {},
   "outputs": [],
   "source": [
    "df_train = pd.read_csv(\"outputs/TrainData.csv\")\n",
    "df_train.head()"
   ]
  },
  {
   "cell_type": "markdown",
   "id": "a87571b1",
   "metadata": {},
   "source": [
    "### Convert \"Date\" column to datetime"
   ]
  },
  {
   "cell_type": "code",
   "execution_count": null,
   "id": "376aa1cb",
   "metadata": {},
   "outputs": [],
   "source": [
    "df_train['Date'] = pd.to_datetime(df_train['Date'])"
   ]
  },
  {
   "cell_type": "markdown",
   "id": "3572ae2a",
   "metadata": {},
   "source": [
    "## Hypothesis 1"
   ]
  },
  {
   "cell_type": "markdown",
   "id": "1ae8e9ae",
   "metadata": {},
   "source": [
    "### Filter data after November 2011"
   ]
  },
  {
   "cell_type": "code",
   "execution_count": null,
   "id": "27cb931e",
   "metadata": {},
   "outputs": [],
   "source": [
    "df_train_filtered = df_train[df_train['Date'] >= '2011-11-01']\n",
    "df_train_filtered = df_train_filtered.reset_index(drop=True)\n",
    "df_train_filtered.shape"
   ]
  },
  {
   "cell_type": "markdown",
   "id": "d3638e34",
   "metadata": {},
   "source": [
    "### Calculate distances between True values of \"IsHoliday\""
   ]
  },
  {
   "cell_type": "code",
   "execution_count": null,
   "id": "52201b7b",
   "metadata": {},
   "outputs": [],
   "source": [
    "#holiday_distances = df_train_filtered[df_train_filtered['IsHoliday'] == True]['Date'].diff().dt.days.dropna()\n",
    "# Create an empty dictionary to store the filtered data for each combination\n",
    "filtered_data_list = []\n",
    "\n",
    "# Loop through each store (1 to 45) and each department (1 to 99)\n",
    "for store_num in range(1, 46):  # Loop through store numbers from 1 to 45\n",
    "    for dept_num in range(1, 100):  # Loop through department numbers from 1 to 99\n",
    "        # Create dynamic column names based on store and department numbers\n",
    "        store_column = f'Store_{store_num}'\n",
    "        dept_column = f'Dept_{dept_num}'\n",
    "        \n",
    "        # Check if the columns exist in the dataframe\n",
    "        if store_column in df_train_filtered.columns and dept_column in df_train_filtered.columns:\n",
    "            # Filter the dataframe where the store and department columns have values equal to 1\n",
    "            filtered_df = df_train_filtered[(df_train_filtered[store_column] == 1) & (df_train_filtered[dept_column] == 1)]\n",
    "            filtered_df.sort_values(by='Date', ascending=True, inplace=True)\n",
    "            \n",
    "            # Store the filtered data in the dictionary with keys for each store-department combination\n",
    "            filtered_data_list = filtered_data_list + list(filtered_df[filtered_df['IsHoliday'] == True]['Date'].diff().dt.days.dropna())"
   ]
  },
  {
   "cell_type": "code",
   "execution_count": null,
   "id": "56fe795a",
   "metadata": {},
   "outputs": [],
   "source": [
    "filtered_data_list_p = list(filter(lambda x : x > 0, filtered_data_list))\n",
    "min(filtered_data_list_p)"
   ]
  },
  {
   "cell_type": "code",
   "execution_count": null,
   "id": "87a39815",
   "metadata": {},
   "outputs": [],
   "source": [
    "# Define a step based on minimum distance (e.g., 3 points - weeks)\n",
    "step = 3"
   ]
  },
  {
   "cell_type": "markdown",
   "id": "55e2626f",
   "metadata": {},
   "source": [
    "### Separate \"Holiday_Sales\" and \"Normal_Sales\""
   ]
  },
  {
   "cell_type": "code",
   "execution_count": null,
   "id": "de86dceb",
   "metadata": {},
   "outputs": [],
   "source": [
    "# Separate Holiday_Sales (including 3 steps before each holiday) and Normal_Sales\n",
    "holiday_sales_indices = []\n",
    "\n",
    "for idx in df_train_filtered[df_train_filtered['IsHoliday'] == True].index:\n",
    "    holiday_sales_indices.extend(range(max(0, idx-step), idx+1))\n",
    "\n",
    "holiday_sales_indices = list(set(holiday_sales_indices))\n",
    "\n",
    "# Create Holiday_Sales and Normal_Sales sets\n",
    "holiday_sales = df_train_filtered.loc[holiday_sales_indices, 'Weekly_Sales']\n",
    "normal_sales = df_train_filtered.drop(holiday_sales_indices)['Weekly_Sales']"
   ]
  },
  {
   "cell_type": "markdown",
   "id": "7830d8e0",
   "metadata": {},
   "source": [
    "### Conduct a t-test to check if Holiday_Sales are significantly greater than Normal_Sales"
   ]
  },
  {
   "cell_type": "code",
   "execution_count": null,
   "id": "50c13e13",
   "metadata": {},
   "outputs": [],
   "source": [
    "t_stat, p_value = stats.ttest_ind(holiday_sales, normal_sales, equal_var=False)\n",
    "\n",
    "# Output the t-test results\n",
    "print(f\"T-statistic: {t_stat}, P-value: {p_value}\")\n",
    "if p_value < 0.05:\n",
    "    print(\"We reject the null hypothesis. Markdown events before holidays have a significant positive effect on sales.\")\n",
    "else:\n",
    "    print(\"We fail to reject the null hypothesis. No significant positive effect was found.\")"
   ]
  }
 ],
 "metadata": {
  "kernelspec": {
   "display_name": "Python 3 (ipykernel)",
   "language": "python",
   "name": "python3"
  },
  "language_info": {
   "codemirror_mode": {
    "name": "ipython",
    "version": 3
   },
   "file_extension": ".py",
   "mimetype": "text/x-python",
   "name": "python",
   "nbconvert_exporter": "python",
   "pygments_lexer": "ipython3",
   "version": "3.9.7"
  }
 },
 "nbformat": 4,
 "nbformat_minor": 5
}
